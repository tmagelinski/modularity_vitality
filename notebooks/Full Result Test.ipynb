{
 "cells": [
  {
   "cell_type": "code",
   "execution_count": 12,
   "metadata": {},
   "outputs": [
    {
     "name": "stdout",
     "output_type": "stream",
     "text": [
      "The autoreload extension is already loaded. To reload it, use:\n",
      "  %reload_ext autoreload\n"
     ]
    }
   ],
   "source": [
    "%load_ext autoreload\n",
    "%autoreload 2"
   ]
  },
  {
   "cell_type": "code",
   "execution_count": 13,
   "metadata": {},
   "outputs": [],
   "source": [
    "import igraph as ig\n",
    "import numpy as np\n",
    "import pandas as pd\n",
    "import src.analysis.robustness_testing as rt\n",
    "import src.analysis.community_aware_centrality as cac\n",
    "from src.visualization import visualize\n",
    "\n",
    "# import matplotlib.pyplot as plt\n",
    "# %matplotlib inline"
   ]
  },
  {
   "cell_type": "code",
   "execution_count": 14,
   "metadata": {},
   "outputs": [],
   "source": [
    "g = ig.Graph.Read_Picklez('../data/processed/roadnet-PA.pkl.gz')\n",
    "part = g.community_leiden(objective_function='modularity')"
   ]
  },
  {
   "cell_type": "code",
   "execution_count": 15,
   "metadata": {},
   "outputs": [],
   "source": [
    "centralities = [cac.modularity_vitality,\n",
    "                cac.absolute_modularity_vitality,\n",
    "                cac.adjusted_modular_centrality_degree,\n",
    "                cac.masuda,\n",
    "                cac.community_hub_bridge,\n",
    "                cac.weighted_modular_centrality_degree,\n",
    "                cac.degree]"
   ]
  },
  {
   "cell_type": "code",
   "execution_count": 16,
   "metadata": {},
   "outputs": [],
   "source": [
    "abbreviations = {'modularity_vitality': 'MV',\n",
    "                'absolute_modularity_vitality': 'AMV',\n",
    "                'adjusted_modular_centrality_degree': 'AMC-D',\n",
    "                'masuda': 'Mas',\n",
    "                'community_hub_bridge': 'CHB',\n",
    "                'weighted_modular_centrality_degree': 'WMC-D',\n",
    "                'degree': 'Deg'}"
   ]
  },
  {
   "cell_type": "code",
   "execution_count": null,
   "metadata": {},
   "outputs": [
    {
     "name": "stdout",
     "output_type": "stream",
     "text": [
      "finished modularity_vitality\n",
      "finished absolute_modularity_vitality\n",
      "finished adjusted_modular_centrality_degree\n",
      "finished masuda\n"
     ]
    }
   ],
   "source": [
    "sigma_results = {}\n",
    "value_results = {}\n",
    "for centrality_func in centralities:\n",
    "    values, rho, sigma, rho_e = rt.initial_attack(g, part, centrality_func,\n",
    "                                                 calculations=100)\n",
    "    sigma_results[centrality_func.__name__] = [rho, sigma, rho_e]\n",
    "    value_results[centrality_func.__name__] = values\n",
    "    print(f'finished {centrality_func.__name__}')"
   ]
  },
  {
   "cell_type": "code",
   "execution_count": null,
   "metadata": {},
   "outputs": [],
   "source": [
    "for function, (rho, sigma, rho_e) in sigma_results.items():\n",
    "    node_cost = np.trapz(y=sigma, x=rho)\n",
    "    edge_cost = np.trapz(y=sigma, x=rho_e)\n",
    "    print(f'{abbreviations[function]}:')\n",
    "    print(f'node cost: {node_cost}, edge cost: {edge_cost}')"
   ]
  },
  {
   "cell_type": "code",
   "execution_count": null,
   "metadata": {},
   "outputs": [],
   "source": [
    "visualize.fragFigs('PA Roads', sigma_results, abbrv=abbreviations, legend=True)"
   ]
  },
  {
   "cell_type": "code",
   "execution_count": null,
   "metadata": {},
   "outputs": [],
   "source": [
    "visualize.heatmap('PA Roads', value_results, abbrv=abbreviations)"
   ]
  },
  {
   "cell_type": "code",
   "execution_count": null,
   "metadata": {},
   "outputs": [],
   "source": []
  }
 ],
 "metadata": {
  "kernelspec": {
   "display_name": "Python 3",
   "language": "python",
   "name": "python3"
  },
  "language_info": {
   "codemirror_mode": {
    "name": "ipython",
    "version": 3
   },
   "file_extension": ".py",
   "mimetype": "text/x-python",
   "name": "python",
   "nbconvert_exporter": "python",
   "pygments_lexer": "ipython3",
   "version": "3.6.8"
  }
 },
 "nbformat": 4,
 "nbformat_minor": 4
}
