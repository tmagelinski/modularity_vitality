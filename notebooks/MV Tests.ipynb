{
 "cells": [
  {
   "cell_type": "code",
   "execution_count": 1,
   "metadata": {},
   "outputs": [],
   "source": [
    "%load_ext autoreload\n",
    "%autoreload 2\n",
    "%config Completer.use_jedi = False"
   ]
  },
  {
   "cell_type": "code",
   "execution_count": 6,
   "metadata": {},
   "outputs": [],
   "source": [
    "import numpy as np\n",
    "import igraph as ig\n",
    "import src.analysis.modularity_vitality as mv_v2\n",
    "import src.analysis.mod_deltas as mv_v1 "
   ]
  },
  {
   "cell_type": "code",
   "execution_count": 7,
   "metadata": {},
   "outputs": [],
   "source": [
    "def calcErrors(g, part, mvs):\n",
    "    errors = []\n",
    "    membership = part.membership\n",
    "    for i in range(g.vcount()):\n",
    "        h = g.copy()\n",
    "        h.delete_vertices(i)\n",
    "        h_membership = membership.copy()\n",
    "        h_membership.pop(i)\n",
    "        if g.is_weighted():\n",
    "            h_part = ig.VertexClustering(h, membership=h_membership,\n",
    "                                        modularity_params={'weights':'weight'})\n",
    "        else:\n",
    "            h_part = ig.VertexClustering(h, membership=h_membership)\n",
    "        true_vitality = part.modularity - h_part.modularity\n",
    "        error = true_vitality - mvs[i]\n",
    "        errors.append(error)\n",
    "    return errors"
   ]
  },
  {
   "cell_type": "code",
   "execution_count": 8,
   "metadata": {},
   "outputs": [],
   "source": [
    "n = 5000\n",
    "p = 0.001"
   ]
  },
  {
   "cell_type": "code",
   "execution_count": 15,
   "metadata": {},
   "outputs": [
    {
     "name": "stdout",
     "output_type": "stream",
     "text": [
      "v1:\n",
      "min error: -2.7755575615628914e-16, max error:2.220446049250313e-16\n",
      "v2:\n",
      "min error: -2.7755575615628914e-16, max error:2.220446049250313e-16\n"
     ]
    }
   ],
   "source": [
    "# standard graph\n",
    "g = ig.Graph.Erdos_Renyi(n=n, p=p, loops=False)\n",
    "part = g.community_leiden(objective_function='modularity')\n",
    "\n",
    "mvs1 = mv_v1.mod_deltas(g, part)\n",
    "mvs1 = list(-1 * np.array(mvs1))\n",
    "errors = calcErrors(g, part, mvs1)\n",
    "print('v1:')\n",
    "print(f'min error: {np.min(errors)}, max error:{np.max(errors)}')\n",
    "\n",
    "mvs2 = mv_v2.modularity_vitality(g, part)\n",
    "errors = calcErrors(g, part, mvs2)\n",
    "print('v2:')\n",
    "print(f'min error: {np.min(errors)}, max error:{np.max(errors)}')"
   ]
  },
  {
   "cell_type": "code",
   "execution_count": 16,
   "metadata": {},
   "outputs": [
    {
     "data": {
      "text/plain": [
       "array([0., 0., 0., ..., 0., 0., 0.])"
      ]
     },
     "execution_count": 16,
     "metadata": {},
     "output_type": "execute_result"
    }
   ],
   "source": [
    "np.array(mvs1) - np.array(mvs2)"
   ]
  },
  {
   "cell_type": "code",
   "execution_count": null,
   "metadata": {},
   "outputs": [],
   "source": []
  },
  {
   "cell_type": "code",
   "execution_count": null,
   "metadata": {},
   "outputs": [],
   "source": []
  },
  {
   "cell_type": "code",
   "execution_count": 33,
   "metadata": {},
   "outputs": [
    {
     "name": "stdout",
     "output_type": "stream",
     "text": [
      "v1:\n",
      "min error: -3.3306690738754696e-16, max error:3.3306690738754696e-16\n",
      "v2:\n",
      "min error: -3.3306690738754696e-16, max error:3.3306690738754696e-16\n"
     ]
    }
   ],
   "source": [
    "# graph w/ loops\n",
    "g = ig.Graph.Erdos_Renyi(n=n, p=p, loops=True)\n",
    "part = g.community_leiden(objective_function='modularity')\n",
    "\n",
    "mvs = mv_v1.mod_deltas(g, part)\n",
    "errors = calcErrors(g, part, mvs)\n",
    "print('v1:')\n",
    "print(f'min error: {np.min(errors)}, max error:{np.max(errors)}')\n",
    "\n",
    "mvs = mv_v2.modularity_vitality(g, part)\n",
    "errors = calcErrors(g, part, mvs)\n",
    "print('v2:')\n",
    "print(f'min error: {np.min(errors)}, max error:{np.max(errors)}')"
   ]
  },
  {
   "cell_type": "code",
   "execution_count": 46,
   "metadata": {},
   "outputs": [
    {
     "name": "stdout",
     "output_type": "stream",
     "text": [
      "v1:\n",
      "min error: 2.4424906541753444e-15, max error:3.774758283725532e-15\n",
      "v2:\n",
      "min error: 2.4424906541753444e-15, max error:3.774758283725532e-15\n"
     ]
    }
   ],
   "source": [
    "# standard weighted graph\n",
    "g = ig.Graph.Erdos_Renyi(n=n, p=p, loops=False)\n",
    "weights = 100 * np.random.rand(g.ecount()).tolist()\n",
    "g.es['weight'] = weights\n",
    "part = g.community_leiden(objective_function='modularity',\n",
    "                         weights='weight')\n",
    "\n",
    "mvs = mv_v1.mod_deltas(g, part)\n",
    "errors = calcErrors(g, part, mvs)\n",
    "print('v1:')\n",
    "print(f'min error: {np.min(errors)}, max error:{np.max(errors)}')\n",
    "\n",
    "mvs = mv_v2.modularity_vitality(g, part)\n",
    "errors = calcErrors(g, part, mvs)\n",
    "print('v2:')\n",
    "print(f'min error: {np.min(errors)}, max error:{np.max(errors)}')"
   ]
  },
  {
   "cell_type": "code",
   "execution_count": 47,
   "metadata": {},
   "outputs": [
    {
     "name": "stdout",
     "output_type": "stream",
     "text": [
      "v1:\n",
      "min error: -1.5543122344752192e-15, max error:-1.1102230246251565e-16\n",
      "v2:\n",
      "min error: -1.5543122344752192e-15, max error:-1.1102230246251565e-16\n"
     ]
    }
   ],
   "source": [
    "# weighted graph w/ loops\n",
    "g = ig.Graph.Erdos_Renyi(n=n, p=p, loops=True)\n",
    "weights = 100 * np.random.rand(g.ecount()).tolist()\n",
    "g.es['weight'] = weights\n",
    "part = g.community_leiden(objective_function='modularity',\n",
    "                         weights='weight')\n",
    "\n",
    "mvs = mv_v1.mod_deltas(g, part)\n",
    "errors = calcErrors(g, part, mvs)\n",
    "print('v1:')\n",
    "print(f'min error: {np.min(errors)}, max error:{np.max(errors)}')\n",
    "\n",
    "mvs = mv_v2.modularity_vitality(g, part)\n",
    "errors = calcErrors(g, part, mvs)\n",
    "print('v2:')\n",
    "print(f'min error: {np.min(errors)}, max error:{np.max(errors)}')"
   ]
  },
  {
   "cell_type": "code",
   "execution_count": null,
   "metadata": {},
   "outputs": [],
   "source": []
  },
  {
   "cell_type": "code",
   "execution_count": null,
   "metadata": {},
   "outputs": [],
   "source": []
  },
  {
   "cell_type": "code",
   "execution_count": 36,
   "metadata": {},
   "outputs": [
    {
     "name": "stdout",
     "output_type": "stream",
     "text": [
      "445 µs ± 30.1 µs per loop (mean ± std. dev. of 7 runs, 1000 loops each)\n"
     ]
    }
   ],
   "source": [
    "%%timeit\n",
    "part.recalculate_modularity()"
   ]
  },
  {
   "cell_type": "code",
   "execution_count": 37,
   "metadata": {},
   "outputs": [
    {
     "name": "stdout",
     "output_type": "stream",
     "text": [
      "33.1 ms ± 1.48 ms per loop (mean ± std. dev. of 7 runs, 10 loops each)\n"
     ]
    }
   ],
   "source": [
    "%%timeit\n",
    "mv_v1.mod_deltas(g, part)"
   ]
  },
  {
   "cell_type": "code",
   "execution_count": 38,
   "metadata": {},
   "outputs": [
    {
     "name": "stdout",
     "output_type": "stream",
     "text": [
      "28.8 ms ± 941 µs per loop (mean ± std. dev. of 7 runs, 10 loops each)\n"
     ]
    }
   ],
   "source": [
    "%%timeit\n",
    "mv_v2.modularity_vitality(g, part)"
   ]
  },
  {
   "cell_type": "code",
   "execution_count": 39,
   "metadata": {},
   "outputs": [
    {
     "name": "stdout",
     "output_type": "stream",
     "text": [
      "speedup: 67.22054380664653x\n"
     ]
    }
   ],
   "source": [
    "print(f'speedup: {.445 / (33.1 /g.vcount())}x')"
   ]
  },
  {
   "cell_type": "code",
   "execution_count": 40,
   "metadata": {},
   "outputs": [
    {
     "name": "stdout",
     "output_type": "stream",
     "text": [
      "speedup: 77.25694444444444x\n"
     ]
    }
   ],
   "source": [
    "print(f'speedup: {.445 / (28.8 /g.vcount())}x')"
   ]
  },
  {
   "cell_type": "code",
   "execution_count": null,
   "metadata": {},
   "outputs": [],
   "source": []
  },
  {
   "cell_type": "code",
   "execution_count": 41,
   "metadata": {},
   "outputs": [],
   "source": [
    "# n = 500000\n",
    "# p = 1e-5\n",
    "# g = ig.Graph.Erdos_Renyi(n=n, p=p, loops=False)\n",
    "# part = g.community_leiden(objective_function='modularity')"
   ]
  },
  {
   "cell_type": "code",
   "execution_count": 42,
   "metadata": {},
   "outputs": [],
   "source": [
    "g = ig.Graph.Read_Pickle('election_day_lc.pkl')\n",
    "part = g.community_leiden(objective_function='modularity',\n",
    "                         weights='weight')"
   ]
  },
  {
   "cell_type": "code",
   "execution_count": 43,
   "metadata": {},
   "outputs": [
    {
     "data": {
      "text/plain": [
       "(267278, True, 2142353)"
      ]
     },
     "execution_count": 43,
     "metadata": {},
     "output_type": "execute_result"
    }
   ],
   "source": [
    "g.vcount(), g.is_weighted(), g.ecount()"
   ]
  },
  {
   "cell_type": "code",
   "execution_count": 44,
   "metadata": {},
   "outputs": [],
   "source": [
    "test1 = mv_v1.mod_deltas(g, part)\n",
    "test2 = mv_v2.modularity_vitality(g, part)"
   ]
  },
  {
   "cell_type": "code",
   "execution_count": 45,
   "metadata": {},
   "outputs": [
    {
     "data": {
      "text/plain": [
       "0.0"
      ]
     },
     "execution_count": 45,
     "metadata": {},
     "output_type": "execute_result"
    }
   ],
   "source": [
    "np.abs(np.array(test1) - np.array(test2)).max()"
   ]
  },
  {
   "cell_type": "code",
   "execution_count": 24,
   "metadata": {},
   "outputs": [
    {
     "name": "stdout",
     "output_type": "stream",
     "text": [
      "4.97 s ± 181 ms per loop (mean ± std. dev. of 7 runs, 1 loop each)\n"
     ]
    }
   ],
   "source": [
    "%%timeit\n",
    "test1 = mv_v1.mod_deltas(g, part)"
   ]
  },
  {
   "cell_type": "code",
   "execution_count": 25,
   "metadata": {},
   "outputs": [
    {
     "name": "stdout",
     "output_type": "stream",
     "text": [
      "4.57 s ± 70.7 ms per loop (mean ± std. dev. of 7 runs, 1 loop each)\n"
     ]
    }
   ],
   "source": [
    "%%timeit\n",
    "test2 = mv_v2.modularity_vitality(g, part)"
   ]
  },
  {
   "cell_type": "code",
   "execution_count": null,
   "metadata": {},
   "outputs": [],
   "source": []
  }
 ],
 "metadata": {
  "kernelspec": {
   "display_name": "Python 3",
   "language": "python",
   "name": "python3"
  },
  "language_info": {
   "codemirror_mode": {
    "name": "ipython",
    "version": 3
   },
   "file_extension": ".py",
   "mimetype": "text/x-python",
   "name": "python",
   "nbconvert_exporter": "python",
   "pygments_lexer": "ipython3",
   "version": "3.6.8"
  }
 },
 "nbformat": 4,
 "nbformat_minor": 2
}
