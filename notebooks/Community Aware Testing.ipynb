{
 "cells": [
  {
   "cell_type": "code",
   "execution_count": 1,
   "metadata": {},
   "outputs": [],
   "source": [
    "%load_ext autoreload\n",
    "%autoreload 2"
   ]
  },
  {
   "cell_type": "code",
   "execution_count": 2,
   "metadata": {},
   "outputs": [],
   "source": [
    "import src.analysis.community_aware_centrality as cac"
   ]
  },
  {
   "cell_type": "code",
   "execution_count": 3,
   "metadata": {},
   "outputs": [],
   "source": [
    "import igraph as ig\n",
    "import numpy as np"
   ]
  },
  {
   "cell_type": "code",
   "execution_count": 15,
   "metadata": {},
   "outputs": [
    {
     "name": "stdout",
     "output_type": "stream",
     "text": [
      "[1, 4, 1] [2.0, 10.0, 2.0]\n"
     ]
    }
   ],
   "source": [
    "g = ig.Graph()\n",
    "g.add_vertices(['1','2','3'])\n",
    "g.add_edges([('1','2'), ('2','2'), ('2', '3')])\n",
    "g.es['weight'] = [2, 3, 2]\n",
    "print(g.degree(), g.strength(weights='weight'))\n",
    "\n",
    "part = ig.VertexClustering(g, membership=[0, 1, 1])"
   ]
  },
  {
   "cell_type": "code",
   "execution_count": 17,
   "metadata": {},
   "outputs": [
    {
     "name": "stdout",
     "output_type": "stream",
     "text": [
      "[-0.05555555555555569, -0.05555555555555569, 0.02444444444444438]\n",
      "[0.05555555555555569, 0.05555555555555569, 0.02444444444444438]\n",
      "[0.0, 18.0, 4.0]\n",
      "[2.0, 10.0, 2.0]\n",
      "[2.0, 12.8, 3.6]\n",
      "[0.0, -2.8000000000000003, -1.6]\n",
      "[2.0, 2.0, 0.0]\n"
     ]
    },
    {
     "name": "stderr",
     "output_type": "stream",
     "text": [
      "c:\\users\\tmagelin\\desktop\\research\\modularity_vitality\\env\\lib\\site-packages\\scipy\\sparse\\_index.py:125: SparseEfficiencyWarning: Changing the sparsity structure of a csr_matrix is expensive. lil_matrix is more efficient.\n",
      "  self._set_arrayXarray(i, j, x)\n"
     ]
    }
   ],
   "source": [
    "print(cac.modularity_vitality(g, part))\n",
    "print(cac.absolute_modularity_vitality(g, part))\n",
    "print(cac.community_hub_bridge(g, part))\n",
    "print(cac.degree(g, part))\n",
    "print(cac.weighted_modular_centrality_degree(g, part))\n",
    "print(cac.adjusted_modular_centrality_degree(g, part))\n",
    "print(cac.masuda(g, part))"
   ]
  },
  {
   "cell_type": "code",
   "execution_count": 28,
   "metadata": {},
   "outputs": [],
   "source": [
    "rows = list(range(g.vcount()))\n",
    "cols = part.membership\n",
    "group_ind = cac.mv.getGroupIndicator(g, cols, rows)\n",
    "A = cac.mv.getSparseA(g)\n",
    "node_deg_by_group = A * group_ind"
   ]
  },
  {
   "cell_type": "code",
   "execution_count": 30,
   "metadata": {},
   "outputs": [
    {
     "data": {
      "text/plain": [
       "matrix([[0., 2.],\n",
       "        [2., 5.],\n",
       "        [0., 2.]])"
      ]
     },
     "execution_count": 30,
     "metadata": {},
     "output_type": "execute_result"
    }
   ],
   "source": [
    "node_deg_by_group.todense()"
   ]
  },
  {
   "cell_type": "code",
   "execution_count": 33,
   "metadata": {},
   "outputs": [
    {
     "data": {
      "text/plain": [
       "matrix([[1., 0.],\n",
       "        [0., 1.],\n",
       "        [0., 1.]])"
      ]
     },
     "execution_count": 33,
     "metadata": {},
     "output_type": "execute_result"
    }
   ],
   "source": [
    "group_ind.todense()"
   ]
  },
  {
   "cell_type": "code",
   "execution_count": 36,
   "metadata": {},
   "outputs": [],
   "source": [
    "alt = node_deg_by_group - node_deg_by_group.multiply(group_ind)"
   ]
  },
  {
   "cell_type": "code",
   "execution_count": 37,
   "metadata": {},
   "outputs": [
    {
     "name": "stderr",
     "output_type": "stream",
     "text": [
      "c:\\users\\tmagelin\\desktop\\research\\modularity_vitality\\env\\lib\\site-packages\\scipy\\sparse\\_index.py:125: SparseEfficiencyWarning: Changing the sparsity structure of a csr_matrix is expensive. lil_matrix is more efficient.\n",
      "  self._set_arrayXarray(i, j, x)\n"
     ]
    }
   ],
   "source": [
    "node_deg_by_group[rows, cols] = 0"
   ]
  },
  {
   "cell_type": "code",
   "execution_count": 38,
   "metadata": {},
   "outputs": [
    {
     "name": "stderr",
     "output_type": "stream",
     "text": [
      "c:\\users\\tmagelin\\desktop\\research\\modularity_vitality\\env\\lib\\site-packages\\IPython\\core\\interactiveshell.py:3343: SparseEfficiencyWarning: Comparing sparse matrices using == is inefficient, try using != instead.\n",
      "  exec(code_obj, self.user_global_ns, self.user_ns)\n"
     ]
    },
    {
     "data": {
      "text/plain": [
       "<3x2 sparse matrix of type '<class 'numpy.bool_'>'\n",
       "\twith 6 stored elements in Compressed Sparse Row format>"
      ]
     },
     "execution_count": 38,
     "metadata": {},
     "output_type": "execute_result"
    }
   ],
   "source": [
    "node_deg_by_group @= alt"
   ]
  },
  {
   "cell_type": "code",
   "execution_count": null,
   "metadata": {},
   "outputs": [],
   "source": []
  }
 ],
 "metadata": {
  "kernelspec": {
   "display_name": "Python 3",
   "language": "python",
   "name": "python3"
  },
  "language_info": {
   "codemirror_mode": {
    "name": "ipython",
    "version": 3
   },
   "file_extension": ".py",
   "mimetype": "text/x-python",
   "name": "python",
   "nbconvert_exporter": "python",
   "pygments_lexer": "ipython3",
   "version": "3.6.8"
  }
 },
 "nbformat": 4,
 "nbformat_minor": 4
}
