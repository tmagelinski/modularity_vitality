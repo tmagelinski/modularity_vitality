{
 "cells": [
  {
   "cell_type": "code",
   "execution_count": 6,
   "metadata": {},
   "outputs": [
    {
     "name": "stdout",
     "output_type": "stream",
     "text": [
      "The autoreload extension is already loaded. To reload it, use:\n",
      "  %reload_ext autoreload\n"
     ]
    }
   ],
   "source": [
    "%load_ext autoreload\n",
    "%autoreload 2\n",
    "%config Completer.use_jedi = False"
   ]
  },
  {
   "cell_type": "code",
   "execution_count": 28,
   "metadata": {},
   "outputs": [],
   "source": [
    "import src.analysis.community_aware_centrality as cac\n",
    "import src.analysis.old_functions as of"
   ]
  },
  {
   "cell_type": "code",
   "execution_count": 3,
   "metadata": {},
   "outputs": [],
   "source": [
    "import igraph as ig\n",
    "import numpy as np"
   ]
  },
  {
   "cell_type": "code",
   "execution_count": 104,
   "metadata": {},
   "outputs": [],
   "source": [
    "# g = ig.Graph()\n",
    "# g.add_vertices(['1','2','3'])\n",
    "# g.add_edges([('1','2'), ('2','2'), ('2', '3')])\n",
    "# g.es['weight'] = [2, 3, 2]\n",
    "# weight_key = 'weight'\n",
    "# print(g.degree(), g.strength(weights='weight'))\n",
    "# part = ig.VertexClustering(g, membership=[0, 1, 1])"
   ]
  },
  {
   "cell_type": "code",
   "execution_count": 125,
   "metadata": {},
   "outputs": [],
   "source": [
    "g = ig.Graph.Erdos_Renyi(n=1000, p=0.01, loops=True)\n",
    "weights = np.random.rand(g.ecount())\n",
    "g.es['weight'] = weights\n",
    "weight_key = 'weight'\n",
    "mem = list(range(1000))\n",
    "part = g.community_leiden(objective_function='modularity',\n",
    "                         weights='weight')\n",
    "# part = ig.VertexClustering(g, membership=mem)"
   ]
  },
  {
   "cell_type": "code",
   "execution_count": 132,
   "metadata": {},
   "outputs": [],
   "source": [
    "g = ig.Graph.Read_Picklez('../data/processed/roadNet-PA.pkl.gz')\n",
    "part = g.community_leiden(objective_function='modularity',)\n",
    "weight_key = None"
   ]
  },
  {
   "cell_type": "code",
   "execution_count": 167,
   "metadata": {},
   "outputs": [
    {
     "data": {
      "text/plain": [
       "0.0"
      ]
     },
     "execution_count": 167,
     "metadata": {},
     "output_type": "execute_result"
    }
   ],
   "source": [
    "new = cac.modularity_vitality(g, part)\n",
    "old = of.md.mod_deltas(g, part)\n",
    "np.abs(np.array(old) + np.array(new)).sum()"
   ]
  },
  {
   "cell_type": "code",
   "execution_count": 166,
   "metadata": {},
   "outputs": [
    {
     "data": {
      "text/plain": [
       "3.868175143972863e-06"
      ]
     },
     "execution_count": 166,
     "metadata": {},
     "output_type": "execute_result"
    }
   ],
   "source": [
    "np.abs(np.array(old) - np.array(new)).max()"
   ]
  },
  {
   "cell_type": "code",
   "execution_count": null,
   "metadata": {},
   "outputs": [],
   "source": []
  },
  {
   "cell_type": "code",
   "execution_count": null,
   "metadata": {},
   "outputs": [],
   "source": []
  },
  {
   "cell_type": "code",
   "execution_count": null,
   "metadata": {},
   "outputs": [],
   "source": []
  },
  {
   "cell_type": "code",
   "execution_count": null,
   "metadata": {},
   "outputs": [],
   "source": [
    "#CHB -> need to decide about loops\n",
    "#MC's -> need to look at group fraction\n",
    "#Masuda -> good"
   ]
  },
  {
   "cell_type": "code",
   "execution_count": 43,
   "metadata": {},
   "outputs": [
    {
     "name": "stdout",
     "output_type": "stream",
     "text": [
      "[-0.05555555555555569, -0.05555555555555569, 0.02444444444444438]\n",
      "[0.05555555555555569, 0.05555555555555569, 0.02444444444444438]\n",
      "[0.0, 18.0, 4.0]\n",
      "[2.0, 10.0, 2.0]\n",
      "[2.0, 12.8, 3.6]\n",
      "[0.0, -2.8000000000000003, -1.6]\n",
      "[2.0, 2.0, 0.0]\n"
     ]
    }
   ],
   "source": [
    "print(cac.modularity_vitality(g, part))\n",
    "print(cac.absolute_modularity_vitality(g, part))\n",
    "print(cac.community_hub_bridge(g, part))\n",
    "print(cac.degree(g, part))\n",
    "print(cac.weighted_modular_centrality_degree(g, part))\n",
    "print(cac.adjusted_modular_centrality_degree(g, part))\n",
    "print(cac.masuda(g, part))"
   ]
  },
  {
   "cell_type": "code",
   "execution_count": null,
   "metadata": {},
   "outputs": [],
   "source": [
    "# still need to test all these"
   ]
  }
 ],
 "metadata": {
  "kernelspec": {
   "display_name": "Python 3",
   "language": "python",
   "name": "python3"
  },
  "language_info": {
   "codemirror_mode": {
    "name": "ipython",
    "version": 3
   },
   "file_extension": ".py",
   "mimetype": "text/x-python",
   "name": "python",
   "nbconvert_exporter": "python",
   "pygments_lexer": "ipython3",
   "version": "3.6.8"
  }
 },
 "nbformat": 4,
 "nbformat_minor": 4
}
