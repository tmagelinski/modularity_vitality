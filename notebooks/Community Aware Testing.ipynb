{
 "cells": [
  {
   "cell_type": "code",
   "execution_count": 1,
   "metadata": {},
   "outputs": [],
   "source": [
    "%load_ext autoreload\n",
    "%autoreload 2"
   ]
  },
  {
   "cell_type": "code",
   "execution_count": 2,
   "metadata": {},
   "outputs": [],
   "source": [
    "import src.analysis.community_aware_centrality as cac"
   ]
  },
  {
   "cell_type": "code",
   "execution_count": 3,
   "metadata": {},
   "outputs": [],
   "source": [
    "import igraph as ig\n",
    "import numpy as np"
   ]
  },
  {
   "cell_type": "code",
   "execution_count": 15,
   "metadata": {},
   "outputs": [
    {
     "name": "stdout",
     "output_type": "stream",
     "text": [
      "[1, 4, 1] [2.0, 10.0, 2.0]\n"
     ]
    }
   ],
   "source": [
    "g = ig.Graph()\n",
    "g.add_vertices(['1','2','3'])\n",
    "g.add_edges([('1','2'), ('2','2'), ('2', '3')])\n",
    "g.es['weight'] = [2, 3, 2]\n",
    "print(g.degree(), g.strength(weights='weight'))\n",
    "\n",
    "part = ig.VertexClustering(g, membership=[0, 1, 1])"
   ]
  },
  {
   "cell_type": "code",
   "execution_count": 43,
   "metadata": {},
   "outputs": [
    {
     "name": "stdout",
     "output_type": "stream",
     "text": [
      "[-0.05555555555555569, -0.05555555555555569, 0.02444444444444438]\n",
      "[0.05555555555555569, 0.05555555555555569, 0.02444444444444438]\n",
      "[0.0, 18.0, 4.0]\n",
      "[2.0, 10.0, 2.0]\n",
      "[2.0, 12.8, 3.6]\n",
      "[0.0, -2.8000000000000003, -1.6]\n",
      "[2.0, 2.0, 0.0]\n"
     ]
    }
   ],
   "source": [
    "print(cac.modularity_vitality(g, part))\n",
    "print(cac.absolute_modularity_vitality(g, part))\n",
    "print(cac.community_hub_bridge(g, part))\n",
    "print(cac.degree(g, part))\n",
    "print(cac.weighted_modular_centrality_degree(g, part))\n",
    "print(cac.adjusted_modular_centrality_degree(g, part))\n",
    "print(cac.masuda(g, part))"
   ]
  },
  {
   "cell_type": "code",
   "execution_count": null,
   "metadata": {},
   "outputs": [],
   "source": [
    "# still need to test all these"
   ]
  }
 ],
 "metadata": {
  "kernelspec": {
   "display_name": "Python 3",
   "language": "python",
   "name": "python3"
  },
  "language_info": {
   "codemirror_mode": {
    "name": "ipython",
    "version": 3
   },
   "file_extension": ".py",
   "mimetype": "text/x-python",
   "name": "python",
   "nbconvert_exporter": "python",
   "pygments_lexer": "ipython3",
   "version": "3.6.8"
  }
 },
 "nbformat": 4,
 "nbformat_minor": 4
}
